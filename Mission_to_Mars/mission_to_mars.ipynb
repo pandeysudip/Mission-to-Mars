{
 "cells": [
  {
   "cell_type": "code",
   "execution_count": 3,
   "id": "aa4ee4ee",
   "metadata": {},
   "outputs": [],
   "source": [
    "import time\n",
    "from splinter import Browser\n",
    "from bs4 import BeautifulSoup\n",
    "from webdriver_manager.chrome import ChromeDriverManager"
   ]
  },
  {
   "cell_type": "code",
   "execution_count": null,
   "id": "b4dc8ade",
   "metadata": {},
   "outputs": [],
   "source": [
    "def scraper():\n",
    "    #set up Splinter\n",
    "    executable_path={\"executable_path\":ChromeDriverManager().install()}\n",
    "    browser=Browser('chrome', **executable_path, headless=True)\n",
    "    #visit mars\n",
    "    url=\"https://redplanetscience.com\"\n",
    "    browser.visit(url)\n",
    "    \n",
    "    time.sleep(2)\n",
    "    \n",
    "    #scrape page into soup\n",
    "    html=browser.html\n",
    "    soup=BeautifulSoup(html, \"lxml\")\n",
    "    \n",
    "    #get the data\n",
    "    news_title=soup.find('div', {'class':'content_title'}).text\n",
    "    news_p=soup.find('div', {'class':'article_teaser_body'}).text\n",
    "    featured_image_url=soup.find('div', {'class':''}).text\n",
    "    \n",
    "    #store data in dictionary\n",
    "    mars_data={\n",
    "        'news_title':'',\n",
    "        'news_p':'',\n",
    "        'featured_image_url':''\n",
    "        \n",
    "    }\n",
    "    \n",
    "    browser.quit()\n",
    "    \n",
    "    return mars_data"
   ]
  },
  {
   "cell_type": "code",
   "execution_count": null,
   "id": "a8b2cb05",
   "metadata": {},
   "outputs": [],
   "source": []
  }
 ],
 "metadata": {
  "kernelspec": {
   "display_name": "Python 3 (ipykernel)",
   "language": "python",
   "name": "python3"
  },
  "language_info": {
   "codemirror_mode": {
    "name": "ipython",
    "version": 3
   },
   "file_extension": ".py",
   "mimetype": "text/x-python",
   "name": "python",
   "nbconvert_exporter": "python",
   "pygments_lexer": "ipython3",
   "version": "3.8.10"
  }
 },
 "nbformat": 4,
 "nbformat_minor": 5
}
